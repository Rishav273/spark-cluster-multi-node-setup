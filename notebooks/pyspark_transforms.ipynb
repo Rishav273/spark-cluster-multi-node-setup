{
 "cells": [
  {
   "cell_type": "code",
   "execution_count": 1,
   "id": "cb987677",
   "metadata": {},
   "outputs": [],
   "source": [
    "from pyspark.sql import SparkSession\n",
    "from pyspark.sql.functions import col, to_timestamp, when, date_format\n",
    "from pyspark.sql.types import LongType, IntegerType\n",
    "from IPython.display import HTML\n",
    "import pandas as pd\n",
    "pd.set_option(\"display.max_columns\", None)\n",
    "\n",
    "sc = spark.sparkContext\n",
    "sc.setLogLevel(\"ERROR\")\n"
   ]
  },
  {
   "cell_type": "markdown",
   "id": "9214930c",
   "metadata": {},
   "source": [
    "## Utility Functions"
   ]
  },
  {
   "cell_type": "code",
   "execution_count": 2,
   "id": "9cd04983",
   "metadata": {},
   "outputs": [],
   "source": [
    "# display formatted dataframe\n",
    "def display(spark_df, max_rows=10):\n",
    "    pandas_df = spark_df.limit(max_rows).toPandas()\n",
    "    return HTML(pandas_df.to_html(index=False))\n",
    "\n",
    "# show unique values for a particular field\n",
    "def get_unique_values(df, field_name):\n",
    "    \n",
    "    unique = df.select(field_name).distinct()\n",
    "    unique.show()"
   ]
  },
  {
   "cell_type": "code",
   "execution_count": null,
   "id": "5ea94277",
   "metadata": {},
   "outputs": [],
   "source": [
    "\n",
    "def main():\n",
    "    \n",
    "    spark = SparkSession.builder \\\n",
    "    .appName(\"PySparkTransforms\") \\\n",
    "    .master(\"local[3]\") \\\n",
    "    .getOrCreate()\n",
    "\n",
    "    df = spark.read.csv(\"files/Online_10052024.csv\", header=True)\n",
    "    \n",
    "    df.write \\\n",
    "        .option(\"header\", \"true\") \\\n",
    "        .mode(\"overwrite\") \\\n",
    "        .csv(\"files/output.csv\")\n",
    "\n",
    "print(\"Done.\")"
   ]
  },
  {
   "cell_type": "code",
   "execution_count": 8,
   "id": "761bead2",
   "metadata": {},
   "outputs": [],
   "source": []
  },
  {
   "cell_type": "code",
   "execution_count": 9,
   "id": "a0fa0f0e",
   "metadata": {},
   "outputs": [],
   "source": [
    "df = df.repartition(5)"
   ]
  },
  {
   "cell_type": "code",
   "execution_count": 10,
   "id": "b365da9c",
   "metadata": {},
   "outputs": [
    {
     "data": {
      "text/plain": [
       "5"
      ]
     },
     "execution_count": 10,
     "metadata": {},
     "output_type": "execute_result"
    }
   ],
   "source": [
    "df.rdd.getNumPartitions()"
   ]
  },
  {
   "cell_type": "code",
   "execution_count": 11,
   "id": "4dd59296",
   "metadata": {},
   "outputs": [],
   "source": [
    "df.write \\\n",
    "    .option(\"header\", \"true\") \\\n",
    "    .mode(\"overwrite\") \\\n",
    "    .csv(\"files/output.csv\")"
   ]
  },
  {
   "cell_type": "code",
   "execution_count": null,
   "id": "589d41ee",
   "metadata": {},
   "outputs": [],
   "source": []
  },
  {
   "cell_type": "code",
   "execution_count": null,
   "id": "3d1a3cb1",
   "metadata": {},
   "outputs": [],
   "source": []
  },
  {
   "cell_type": "code",
   "execution_count": null,
   "id": "655b9c99",
   "metadata": {},
   "outputs": [],
   "source": [
    "df = df.groupBy(\"Brand\").count()"
   ]
  },
  {
   "cell_type": "code",
   "execution_count": null,
   "id": "cd3b7dc7",
   "metadata": {},
   "outputs": [],
   "source": [
    "agg.show()"
   ]
  },
  {
   "cell_type": "code",
   "execution_count": null,
   "id": "ce305641",
   "metadata": {},
   "outputs": [],
   "source": [
    "counts = agg.count()"
   ]
  },
  {
   "cell_type": "code",
   "execution_count": null,
   "id": "59d64d6b",
   "metadata": {},
   "outputs": [],
   "source": [
    "# df = df.repartition(3)"
   ]
  },
  {
   "cell_type": "code",
   "execution_count": null,
   "id": "3229e9d3",
   "metadata": {},
   "outputs": [],
   "source": [
    "df = df.coalesce(1)"
   ]
  },
  {
   "cell_type": "code",
   "execution_count": null,
   "id": "b495c080",
   "metadata": {},
   "outputs": [],
   "source": [
    "counts = df.count()"
   ]
  },
  {
   "cell_type": "code",
   "execution_count": null,
   "id": "ff523b9c",
   "metadata": {},
   "outputs": [],
   "source": [
    "df = df.repartition(3)"
   ]
  },
  {
   "cell_type": "code",
   "execution_count": null,
   "id": "d2ddd58e",
   "metadata": {},
   "outputs": [],
   "source": [
    "df = df.withColumn(\"SO_Sales_Date\", date_format(\"SO_Sales_Date\", \"yyyy-MM-dd\"))\n",
    "df = df.withColumn(\"Date\", date_format(\"Date\", \"yyyy-MM-dd\"))"
   ]
  },
  {
   "cell_type": "code",
   "execution_count": null,
   "id": "d4486635",
   "metadata": {},
   "outputs": [],
   "source": [
    "df = df.groupBy(\"Brand\").count()"
   ]
  },
  {
   "cell_type": "code",
   "execution_count": null,
   "id": "04bd1cf8",
   "metadata": {},
   "outputs": [],
   "source": [
    "counts = df.count()"
   ]
  },
  {
   "cell_type": "code",
   "execution_count": null,
   "id": "bed70fbb",
   "metadata": {},
   "outputs": [],
   "source": []
  },
  {
   "cell_type": "code",
   "execution_count": null,
   "id": "e42abba3",
   "metadata": {},
   "outputs": [],
   "source": [
    "df.rdd.getNumPartitions()"
   ]
  },
  {
   "cell_type": "code",
   "execution_count": null,
   "id": "a10014ea",
   "metadata": {},
   "outputs": [],
   "source": [
    "df = df.withColumn(\"SO_Sales_Date\", date_format(\"SO_Sales_Date\", \"yyyy-MM-dd\"))\n",
    "df = df.withColumn(\"Date\", date_format(\"Date\", \"yyyy-MM-dd\"))"
   ]
  },
  {
   "cell_type": "code",
   "execution_count": null,
   "id": "5e4b5538",
   "metadata": {},
   "outputs": [],
   "source": [
    "df = df.withColumn(\"EAN\", col(\"EAN\").cast(LongType()))\n",
    "df = df.withColumn(\"Article\", col(\"Article\").cast(LongType()))"
   ]
  },
  {
   "cell_type": "code",
   "execution_count": null,
   "id": "b6e4584c",
   "metadata": {},
   "outputs": [],
   "source": [
    "df = df.withColumn(\"Brand\", when(col(\"Brand\").isNull(), \"No Brand\").otherwise(col(\"Brand\")))"
   ]
  },
  {
   "cell_type": "code",
   "execution_count": null,
   "id": "60a3a7b7",
   "metadata": {},
   "outputs": [],
   "source": [
    "df = df.filter(col(\"Brand\") == 'SELECTED')"
   ]
  },
  {
   "cell_type": "code",
   "execution_count": null,
   "id": "f650e35f",
   "metadata": {},
   "outputs": [],
   "source": [
    "counts = df.groupBy(col(\"Brand\")).count()"
   ]
  },
  {
   "cell_type": "code",
   "execution_count": null,
   "id": "5e4a220a",
   "metadata": {},
   "outputs": [],
   "source": [
    "counts.show()"
   ]
  },
  {
   "cell_type": "code",
   "execution_count": null,
   "id": "4013c0f2",
   "metadata": {},
   "outputs": [],
   "source": [
    "get_unique_values(df, 'Brand')"
   ]
  },
  {
   "cell_type": "code",
   "execution_count": null,
   "id": "95a5f1b5",
   "metadata": {},
   "outputs": [],
   "source": [
    "display(df)"
   ]
  },
  {
   "cell_type": "code",
   "execution_count": null,
   "id": "47a444a0",
   "metadata": {},
   "outputs": [],
   "source": []
  }
 ],
 "metadata": {
  "kernelspec": {
   "display_name": "Python 3 (ipykernel)",
   "language": "python",
   "name": "python3"
  },
  "language_info": {
   "codemirror_mode": {
    "name": "ipython",
    "version": 3
   },
   "file_extension": ".py",
   "mimetype": "text/x-python",
   "name": "python",
   "nbconvert_exporter": "python",
   "pygments_lexer": "ipython3",
   "version": "3.10.10"
  }
 },
 "nbformat": 4,
 "nbformat_minor": 5
}
